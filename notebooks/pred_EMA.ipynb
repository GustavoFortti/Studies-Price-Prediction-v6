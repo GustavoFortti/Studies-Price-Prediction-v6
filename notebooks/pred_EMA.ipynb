{
 "cells": [
  {
   "cell_type": "code",
   "execution_count": 1,
   "metadata": {},
   "outputs": [],
   "source": [
    "import time\n",
    "from datetime import datetime\n",
    "\n",
    "import pandas as pd\n",
    "import seaborn as sns\n",
    "import numpy as np\n",
    "from scipy import stats\n",
    "\n",
    "import matplotlib.pyplot as plt\n",
    "import matplotlib.ticker as ticker\n",
    "import plotly.graph_objects as go\n",
    "\n",
    "from sklearn.preprocessing import StandardScaler\n",
    "from sklearn.metrics import mean_squared_error, mean_absolute_percentage_error, r2_score, explained_variance_score\n",
    "from sklearn.metrics import mean_squared_log_error, mean_poisson_deviance, mean_gamma_deviance, mean_tweedie_deviance, max_error\n",
    "\n",
    "%matplotlib inline\n",
    "\n",
    "df = pd.read_csv(\"data/1_data_test_XOM_Q7R_TAH_0.csv\")\n",
    "\n"
   ]
  },
  {
   "cell_type": "code",
   "execution_count": 2,
   "metadata": {},
   "outputs": [
    {
     "data": {
      "text/html": [
       "<div>\n",
       "<style scoped>\n",
       "    .dataframe tbody tr th:only-of-type {\n",
       "        vertical-align: middle;\n",
       "    }\n",
       "\n",
       "    .dataframe tbody tr th {\n",
       "        vertical-align: top;\n",
       "    }\n",
       "\n",
       "    .dataframe thead th {\n",
       "        text-align: right;\n",
       "    }\n",
       "</style>\n",
       "<table border=\"1\" class=\"dataframe\">\n",
       "  <thead>\n",
       "    <tr style=\"text-align: right;\">\n",
       "      <th></th>\n",
       "      <th>Date</th>\n",
       "      <th>Close</th>\n",
       "      <th>High</th>\n",
       "      <th>Low</th>\n",
       "      <th>Open</th>\n",
       "      <th>Volume</th>\n",
       "      <th>target</th>\n",
       "      <th>ema_5_Close</th>\n",
       "      <th>pred</th>\n",
       "      <th>error</th>\n",
       "      <th>bool</th>\n",
       "      <th>p_bool</th>\n",
       "      <th>right</th>\n",
       "      <th>name</th>\n",
       "      <th>target_name</th>\n",
       "      <th>days_ahead</th>\n",
       "      <th>day_predict</th>\n",
       "    </tr>\n",
       "  </thead>\n",
       "  <tbody>\n",
       "  </tbody>\n",
       "</table>\n",
       "</div>"
      ],
      "text/plain": [
       "Empty DataFrame\n",
       "Columns: [Date, Close, High, Low, Open, Volume, target, ema_5_Close, pred, error, bool, p_bool, right, name, target_name, days_ahead, day_predict]\n",
       "Index: []"
      ]
     },
     "execution_count": 2,
     "metadata": {},
     "output_type": "execute_result"
    }
   ],
   "source": [
    "df[df['Date'] == '2021-05-10']"
   ]
  },
  {
   "cell_type": "code",
   "execution_count": null,
   "metadata": {},
   "outputs": [],
   "source": [
    "plt.figure(figsize=(13,7))\n",
    "plt.xticks(rotation=45) \n",
    "\n",
    "def plot_graph_market():\n",
    "    for idx, val in df.iterrows():\n",
    "        plt.plot([idx, idx], [val['Low'], val['High']], color='Black')\n",
    "\n",
    "\n",
    "def plot_graph_real(col, color):\n",
    "    plt.plot(df.index, df[col], color=color)\n",
    "    plt.scatter(df.index, df[col], color=color)\n",
    "\n",
    "def plot_graph_pred(index):\n",
    "    x, y = [], []\n",
    "    target = []\n",
    "    color = []\n",
    "    df_1 = df[df['days_ahead'] == index]\n",
    "    [y.append(df_1['day_predict'].values[0][:10]) for i in range(3)]\n",
    "    for i, j in zip(['red', 'blue', 'green'], range(3)):\n",
    "        target.append(df_1['target'].values[j])\n",
    "        x.append(df_1['pred'].values[j])\n",
    "        color.append(i)\n",
    "    plt.scatter(y, x, c=color, linewidths=4)\n",
    "    # plt.scatter(y, target, c=color, linewidths=1)\n",
    "    \n",
    "targets_name = df['target_name'].drop_duplicates().values\n",
    "colors = ['red', 'blue', 'green']\n",
    "\n",
    "plot_graph_market()\n",
    "plot_graph_real('Close', 'Black')\n",
    "[plot_graph_real(i, j) for i, j in zip(targets_name, colors)]\n",
    "[plot_graph_pred(i + 1) for i in range(4)]\n",
    "\n",
    "plt.grid(True)\n",
    "plt.show()\n"
   ]
  },
  {
   "cell_type": "code",
   "execution_count": 48,
   "metadata": {},
   "outputs": [],
   "source": [
    "best = []\n",
    "\n",
    "date = df['Date'].drop_duplicates()\n",
    "for j in range(len(date)):\n",
    "    ax_df = df[df['Date'] == date[j]]\n",
    "    ax_best = ax_df.sort_values(['days_ahead', 'error'])\n",
    "    for i in range(0, 11, 3):\n",
    "        best.append(ax_best.iloc[i:i+1, 13:14].values[0][0][5])\n",
    "\n",
    "best = pd.Series(best)\n",
    "print(best.value_counts(normalize=True))\n",
    "print(best.value_counts())"
   ]
  }
 ],
 "metadata": {
  "interpreter": {
   "hash": "916dbcbb3f70747c44a77c7bcd40155683ae19c65e1c03b4aa3499c5328201f1"
  },
  "kernelspec": {
   "display_name": "Python 3.8.10 64-bit",
   "name": "python3"
  },
  "language_info": {
   "codemirror_mode": {
    "name": "ipython",
    "version": 3
   },
   "file_extension": ".py",
   "mimetype": "text/x-python",
   "name": "python",
   "nbconvert_exporter": "python",
   "pygments_lexer": "ipython3",
   "version": "3.8.10"
  }
 },
 "nbformat": 4,
 "nbformat_minor": 5
}
