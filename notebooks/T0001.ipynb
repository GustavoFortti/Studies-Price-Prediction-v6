{
 "cells": [
  {
   "cell_type": "code",
   "execution_count": 2,
   "source": [
    "import pandas as pd\n",
    "import os\n",
    "\n",
    "print(os.system(\"pwd\"))"
   ],
   "outputs": [
    {
     "output_type": "stream",
     "name": "stdout",
     "text": [
      "/home/magico/Main/Projects/Price-Prediction/Price-Prediction-v6/notebooks\n",
      "0\n"
     ]
    }
   ],
   "metadata": {}
  },
  {
   "cell_type": "code",
   "execution_count": 5,
   "source": [
    "df = pd.read_csv(\"./data.csv\", index_col='Date')"
   ],
   "outputs": [],
   "metadata": {}
  },
  {
   "cell_type": "code",
   "execution_count": 14,
   "source": [
    "df.corr()['Close'].sort_values(ascending=False).head(50)"
   ],
   "outputs": [
    {
     "output_type": "execute_result",
     "data": {
      "text/plain": [
       "Close                      1.000000\n",
       "Low                        0.999929\n",
       "High                       0.999928\n",
       "Open                       0.999864\n",
       "trend_ichimoku_conv        0.999494\n",
       "trend_ema_fast             0.999492\n",
       "volatility_kcl             0.999448\n",
       "volatility_kcc             0.999400\n",
       "momentum_kama              0.999320\n",
       "trend_sma_fast             0.999303\n",
       "volatility_kch             0.999258\n",
       "volume_vwap                0.999219\n",
       "trend_ichimoku_a           0.999138\n",
       "trend_ema_slow             0.998820\n",
       "volatility_dcm             0.998766\n",
       "volatility_bbm             0.998759\n",
       "trend_ichimoku_base        0.998359\n",
       "volatility_bbh             0.998353\n",
       "trend_sma_slow             0.998319\n",
       "volatility_dch             0.998276\n",
       "volatility_dcl             0.998231\n",
       "volatility_bbl             0.998006\n",
       "trend_psar_up              0.997831\n",
       "parabolic_sar              0.997530\n",
       "trend_ichimoku_b           0.997245\n",
       "trend_psar_down            0.996851\n",
       "trend_visual_ichimoku_a    0.991218\n",
       "trend_visual_ichimoku_b    0.989647\n",
       "volatility_atr             0.920621\n",
       "volume_nvi                 0.560044\n",
       "trend_macd_signal          0.501879\n",
       "trend_macd                 0.480970\n",
       "momentum_ao                0.406578\n",
       "volume_sma_em              0.171770\n",
       "momentum_tsi               0.145982\n",
       "momentum_uo                0.136353\n",
       "momentum_rsi               0.135377\n",
       "volume_cmf                 0.134442\n",
       "others_cr                  0.128621\n",
       "trend_vortex_ind_diff      0.125392\n",
       "volatility_dcp             0.125216\n",
       "momentum_stoch_signal      0.122087\n",
       "trend_aroon_ind            0.118528\n",
       "momentum_stoch             0.113834\n",
       "momentum_wr                0.113834\n",
       "volume_adi                 0.111356\n",
       "trend_aroon_up             0.111287\n",
       "volume_fi                  0.105611\n",
       "volatility_bbp             0.097167\n",
       "trend_cci                  0.095096\n",
       "Name: Close, dtype: float64"
      ]
     },
     "metadata": {},
     "execution_count": 14
    }
   ],
   "metadata": {}
  }
 ],
 "metadata": {
  "language_info": {
   "name": "python",
   "version": "3.8.10",
   "mimetype": "text/x-python",
   "codemirror_mode": {
    "name": "ipython",
    "version": 3
   },
   "pygments_lexer": "ipython3",
   "nbconvert_exporter": "python",
   "file_extension": ".py"
  },
  "kernelspec": {
   "name": "python3",
   "display_name": "Python 3.8.10 64-bit"
  },
  "interpreter": {
   "hash": "916dbcbb3f70747c44a77c7bcd40155683ae19c65e1c03b4aa3499c5328201f1"
  }
 },
 "nbformat": 4,
 "nbformat_minor": 5
}